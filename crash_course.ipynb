{
 "metadata": {
  "language_info": {
   "codemirror_mode": {
    "name": "ipython",
    "version": 3
   },
   "file_extension": ".py",
   "mimetype": "text/x-python",
   "name": "python",
   "nbconvert_exporter": "python",
   "pygments_lexer": "ipython3",
   "version": "3.8.1-final"
  },
  "orig_nbformat": 2,
  "kernelspec": {
   "name": "python3",
   "display_name": "Python 3",
   "language": "python"
  }
 },
 "nbformat": 4,
 "nbformat_minor": 2,
 "cells": [
  {
   "cell_type": "code",
   "execution_count": 1,
   "metadata": {},
   "outputs": [],
   "source": [
    "import gym\n",
    "import random"
   ]
  },
  {
   "cell_type": "code",
   "execution_count": 2,
   "metadata": {},
   "outputs": [],
   "source": [
    "env = gym.make('CartPole-v0')\n",
    "states = env.observation_space.shape[0]\n",
    "actions = env.action_space.n"
   ]
  },
  {
   "cell_type": "code",
   "execution_count": 3,
   "metadata": {},
   "outputs": [
    {
     "output_type": "execute_result",
     "data": {
      "text/plain": [
       "2"
      ]
     },
     "metadata": {},
     "execution_count": 3
    }
   ],
   "source": [
    "actions"
   ]
  },
  {
   "cell_type": "code",
   "execution_count": 20,
   "metadata": {},
   "outputs": [
    {
     "output_type": "stream",
     "name": "stdout",
     "text": [
      "episode:1 score:1.0\n",
      "episode:1 score:2.0\n",
      "episode:1 score:3.0\n",
      "episode:1 score:4.0\n",
      "episode:1 score:5.0\n",
      "episode:1 score:6.0\n",
      "episode:1 score:7.0\n",
      "episode:1 score:8.0\n",
      "episode:1 score:9.0\n",
      "episode:1 score:10.0\n",
      "episode:1 score:11.0\n",
      "episode:1 score:12.0\n",
      "episode:1 score:13.0\n",
      "episode:1 score:14.0\n",
      "episode:2 score:1.0\n",
      "episode:2 score:2.0\n",
      "episode:2 score:3.0\n",
      "episode:2 score:4.0\n",
      "episode:2 score:5.0\n",
      "episode:2 score:6.0\n",
      "episode:2 score:7.0\n",
      "episode:2 score:8.0\n",
      "episode:2 score:9.0\n",
      "episode:2 score:10.0\n",
      "episode:2 score:11.0\n",
      "episode:2 score:12.0\n",
      "episode:2 score:13.0\n",
      "episode:2 score:14.0\n",
      "episode:2 score:15.0\n",
      "episode:2 score:16.0\n",
      "episode:2 score:17.0\n",
      "episode:2 score:18.0\n",
      "episode:2 score:19.0\n",
      "episode:2 score:20.0\n",
      "episode:2 score:21.0\n",
      "episode:2 score:22.0\n",
      "episode:2 score:23.0\n",
      "episode:2 score:24.0\n",
      "episode:2 score:25.0\n",
      "episode:3 score:1.0\n",
      "episode:3 score:2.0\n",
      "episode:3 score:3.0\n",
      "episode:3 score:4.0\n",
      "episode:3 score:5.0\n",
      "episode:3 score:6.0\n",
      "episode:3 score:7.0\n",
      "episode:3 score:8.0\n",
      "episode:3 score:9.0\n",
      "episode:3 score:10.0\n",
      "episode:3 score:11.0\n",
      "episode:3 score:12.0\n",
      "episode:3 score:13.0\n",
      "episode:3 score:14.0\n",
      "episode:3 score:15.0\n",
      "episode:3 score:16.0\n",
      "episode:3 score:17.0\n",
      "episode:3 score:18.0\n",
      "episode:3 score:19.0\n",
      "episode:3 score:20.0\n",
      "episode:3 score:21.0\n",
      "episode:4 score:1.0\n",
      "episode:4 score:2.0\n",
      "episode:4 score:3.0\n",
      "episode:4 score:4.0\n",
      "episode:4 score:5.0\n",
      "episode:4 score:6.0\n",
      "episode:4 score:7.0\n",
      "episode:4 score:8.0\n",
      "episode:4 score:9.0\n",
      "episode:4 score:10.0\n",
      "episode:4 score:11.0\n",
      "episode:4 score:12.0\n",
      "episode:4 score:13.0\n",
      "episode:5 score:1.0\n",
      "episode:5 score:2.0\n",
      "episode:5 score:3.0\n",
      "episode:5 score:4.0\n",
      "episode:5 score:5.0\n",
      "episode:5 score:6.0\n",
      "episode:5 score:7.0\n",
      "episode:5 score:8.0\n",
      "episode:5 score:9.0\n",
      "episode:5 score:10.0\n",
      "episode:5 score:11.0\n",
      "episode:5 score:12.0\n",
      "episode:5 score:13.0\n",
      "episode:5 score:14.0\n",
      "episode:5 score:15.0\n",
      "episode:5 score:16.0\n",
      "episode:5 score:17.0\n",
      "episode:5 score:18.0\n",
      "episode:5 score:19.0\n",
      "episode:5 score:20.0\n",
      "episode:5 score:21.0\n",
      "episode:5 score:22.0\n",
      "episode:5 score:23.0\n",
      "episode:5 score:24.0\n",
      "episode:5 score:25.0\n",
      "episode:5 score:26.0\n",
      "episode:5 score:27.0\n",
      "episode:5 score:28.0\n",
      "episode:5 score:29.0\n",
      "episode:5 score:30.0\n",
      "episode:5 score:31.0\n",
      "episode:5 score:32.0\n",
      "episode:5 score:33.0\n",
      "episode:5 score:34.0\n",
      "episode:5 score:35.0\n",
      "episode:5 score:36.0\n",
      "episode:5 score:37.0\n",
      "episode:5 score:38.0\n",
      "episode:5 score:39.0\n",
      "episode:5 score:40.0\n",
      "episode:5 score:41.0\n",
      "episode:5 score:42.0\n",
      "episode:5 score:43.0\n",
      "episode:5 score:44.0\n",
      "episode:5 score:45.0\n",
      "episode:5 score:46.0\n",
      "episode:5 score:47.0\n",
      "episode:5 score:48.0\n",
      "episode:6 score:1.0\n",
      "episode:6 score:2.0\n",
      "episode:6 score:3.0\n",
      "episode:6 score:4.0\n",
      "episode:6 score:5.0\n",
      "episode:6 score:6.0\n",
      "episode:6 score:7.0\n",
      "episode:6 score:8.0\n",
      "episode:6 score:9.0\n",
      "episode:6 score:10.0\n",
      "episode:6 score:11.0\n",
      "episode:6 score:12.0\n",
      "episode:6 score:13.0\n",
      "episode:6 score:14.0\n",
      "episode:7 score:1.0\n",
      "episode:7 score:2.0\n",
      "episode:7 score:3.0\n",
      "episode:7 score:4.0\n",
      "episode:7 score:5.0\n",
      "episode:7 score:6.0\n",
      "episode:7 score:7.0\n",
      "episode:7 score:8.0\n",
      "episode:7 score:9.0\n",
      "episode:7 score:10.0\n",
      "episode:7 score:11.0\n",
      "episode:7 score:12.0\n",
      "episode:7 score:13.0\n",
      "episode:7 score:14.0\n",
      "episode:7 score:15.0\n",
      "episode:7 score:16.0\n",
      "episode:7 score:17.0\n",
      "episode:7 score:18.0\n",
      "episode:7 score:19.0\n",
      "episode:7 score:20.0\n",
      "episode:7 score:21.0\n",
      "episode:7 score:22.0\n",
      "episode:8 score:1.0\n",
      "episode:8 score:2.0\n",
      "episode:8 score:3.0\n",
      "episode:8 score:4.0\n",
      "episode:8 score:5.0\n",
      "episode:8 score:6.0\n",
      "episode:8 score:7.0\n",
      "episode:8 score:8.0\n",
      "episode:8 score:9.0\n",
      "episode:8 score:10.0\n",
      "episode:8 score:11.0\n",
      "episode:8 score:12.0\n",
      "episode:9 score:1.0\n",
      "episode:9 score:2.0\n",
      "episode:9 score:3.0\n",
      "episode:9 score:4.0\n",
      "episode:9 score:5.0\n",
      "episode:9 score:6.0\n",
      "episode:9 score:7.0\n",
      "episode:9 score:8.0\n",
      "episode:9 score:9.0\n",
      "episode:9 score:10.0\n",
      "episode:9 score:11.0\n",
      "episode:9 score:12.0\n",
      "episode:9 score:13.0\n",
      "episode:10 score:1.0\n",
      "episode:10 score:2.0\n",
      "episode:10 score:3.0\n",
      "episode:10 score:4.0\n",
      "episode:10 score:5.0\n",
      "episode:10 score:6.0\n",
      "episode:10 score:7.0\n",
      "episode:10 score:8.0\n",
      "episode:10 score:9.0\n",
      "episode:10 score:10.0\n",
      "episode:10 score:11.0\n"
     ]
    }
   ],
   "source": [
    "episodes = 10\n",
    "for episode in range(1,episodes+1):\n",
    "    state = env.reset()\n",
    "    done = False\n",
    "    score = 0\n",
    "\n",
    "    while not done:\n",
    "        env.render()\n",
    "        action = random.choice([0,1])\n",
    "        n_state, reward, done, info = env.step(action)\n",
    "        score+=reward\n",
    "        print('episode:{} score:{}'.format(episode,score))"
   ]
  },
  {
   "source": [
    "# create a deep learning model with keras"
   ],
   "cell_type": "markdown",
   "metadata": {}
  },
  {
   "cell_type": "code",
   "execution_count": 4,
   "metadata": {},
   "outputs": [],
   "source": [
    "import numpy as np\n",
    "from tensorflow.keras.models import Sequential\n",
    "from tensorflow.keras.layers import Dense, Flatten\n",
    "from tensorflow.keras.optimizers import Adam"
   ]
  },
  {
   "cell_type": "code",
   "execution_count": 6,
   "metadata": {},
   "outputs": [],
   "source": [
    "def build_model(states, actions):\n",
    "    model = Sequential()\n",
    "    model.add(Flatten(input_shape=(1,states)))\n",
    "    model.add(Dense(24,activation='relu'))\n",
    "    model.add(Dense(24,activation='relu'))\n",
    "    model.add(Dense(actions,activation='linear'))\n",
    "    return model"
   ]
  },
  {
   "cell_type": "code",
   "execution_count": 7,
   "metadata": {},
   "outputs": [
    {
     "output_type": "error",
     "ename": "NameError",
     "evalue": "name 'model' is not defined",
     "traceback": [
      "\u001b[0;31m---------------------------------------------------------------------------\u001b[0m",
      "\u001b[0;31mNameError\u001b[0m                                 Traceback (most recent call last)",
      "\u001b[0;32m<ipython-input-7-a7ab210f85a1>\u001b[0m in \u001b[0;36m<module>\u001b[0;34m\u001b[0m\n\u001b[0;32m----> 1\u001b[0;31m \u001b[0;32mdel\u001b[0m \u001b[0mmodel\u001b[0m\u001b[0;34m\u001b[0m\u001b[0;34m\u001b[0m\u001b[0m\n\u001b[0m",
      "\u001b[0;31mNameError\u001b[0m: name 'model' is not defined"
     ]
    }
   ],
   "source": [
    "del model"
   ]
  },
  {
   "cell_type": "code",
   "execution_count": 17,
   "metadata": {},
   "outputs": [],
   "source": [
    "model = build_model(states,actions)"
   ]
  },
  {
   "cell_type": "code",
   "execution_count": 18,
   "metadata": {},
   "outputs": [
    {
     "output_type": "stream",
     "name": "stdout",
     "text": [
      "Model: \"sequential_1\"\n_________________________________________________________________\nLayer (type)                 Output Shape              Param #   \n=================================================================\nflatten_1 (Flatten)          (None, 4)                 0         \n_________________________________________________________________\ndense_3 (Dense)              (None, 24)                120       \n_________________________________________________________________\ndense_4 (Dense)              (None, 24)                600       \n_________________________________________________________________\ndense_5 (Dense)              (None, 2)                 50        \n=================================================================\nTotal params: 770\nTrainable params: 770\nNon-trainable params: 0\n_________________________________________________________________\n"
     ]
    }
   ],
   "source": [
    "model.summary()"
   ]
  },
  {
   "source": [
    "# build agent with keras-rl"
   ],
   "cell_type": "markdown",
   "metadata": {}
  },
  {
   "cell_type": "code",
   "execution_count": 20,
   "metadata": {},
   "outputs": [],
   "source": [
    "from rl.agents import DQNAgent\n",
    "from rl.policy import BoltzmannQPolicy\n",
    "from rl.memory import SequentialMemory"
   ]
  },
  {
   "cell_type": "code",
   "execution_count": 21,
   "metadata": {},
   "outputs": [],
   "source": [
    "def build_agent(model, actions):\n",
    "    policy = BoltzmannQPolicy()\n",
    "    memory = SequentialMemory(limit=50000, window_length=1)\n",
    "    dqn = DQNAgent(model=model, memory=memory, policy = policy, nb_actions = actions, nb_steps_warmup=10,target_model_update=1e-2)\n",
    "    return dqn"
   ]
  },
  {
   "cell_type": "code",
   "execution_count": 22,
   "metadata": {},
   "outputs": [
    {
     "output_type": "stream",
     "name": "stdout",
     "text": [
      "Training for 50000 steps ...\n",
      "Interval 1 (0 steps performed)\n",
      "WARNING:tensorflow:From /Users/hadley/Development/venv/my-venv/lib/python3.8/site-packages/tensorflow/python/keras/engine/training_v1.py:2070: Model.state_updates (from tensorflow.python.keras.engine.training) is deprecated and will be removed in a future version.\n",
      "Instructions for updating:\n",
      "This property should not be used in TensorFlow 2.0, as updates are applied automatically.\n",
      "10000/10000 [==============================] - 88s 9ms/step - reward: 1.0000\n",
      "114 episodes - episode_reward: 87.632 [9.000, 200.000] - loss: 3.589 - mae: 20.217 - mean_q: 40.924\n",
      "\n",
      "Interval 2 (10000 steps performed)\n",
      "10000/10000 [==============================] - 85s 9ms/step - reward: 1.0000\n",
      "51 episodes - episode_reward: 195.176 [159.000, 200.000] - loss: 9.152 - mae: 42.452 - mean_q: 85.678\n",
      "\n",
      "Interval 3 (20000 steps performed)\n",
      "10000/10000 [==============================] - 91s 9ms/step - reward: 1.0000\n",
      "50 episodes - episode_reward: 198.000 [175.000, 200.000] - loss: 7.759 - mae: 47.155 - mean_q: 95.052\n",
      "\n",
      "Interval 4 (30000 steps performed)\n",
      "10000/10000 [==============================] - 88s 9ms/step - reward: 1.0000\n",
      "52 episodes - episode_reward: 194.192 [171.000, 200.000] - loss: 4.579 - mae: 43.382 - mean_q: 87.210\n",
      "\n",
      "Interval 5 (40000 steps performed)\n",
      "10000/10000 [==============================] - 92s 9ms/step - reward: 1.0000\n",
      "done, took 444.315 seconds\n"
     ]
    },
    {
     "output_type": "execute_result",
     "data": {
      "text/plain": [
       "<tensorflow.python.keras.callbacks.History at 0x7fdde6abbb80>"
      ]
     },
     "metadata": {},
     "execution_count": 22
    }
   ],
   "source": [
    "dqn = build_agent(model,actions)\n",
    "dqn.compile(Adam(lr=1e-3), metrics=['mae'])\n",
    "dqn.fit(env, nb_steps=50000,visualize=False,verbose=1)"
   ]
  },
  {
   "cell_type": "code",
   "execution_count": 23,
   "metadata": {},
   "outputs": [
    {
     "output_type": "stream",
     "name": "stdout",
     "text": [
      "Testing for 100 episodes ...\n",
      "Episode 1: reward: 200.000, steps: 200\n",
      "Episode 2: reward: 200.000, steps: 200\n",
      "Episode 3: reward: 200.000, steps: 200\n",
      "Episode 4: reward: 200.000, steps: 200\n",
      "Episode 5: reward: 200.000, steps: 200\n",
      "Episode 6: reward: 200.000, steps: 200\n",
      "Episode 7: reward: 200.000, steps: 200\n",
      "Episode 8: reward: 200.000, steps: 200\n",
      "Episode 9: reward: 200.000, steps: 200\n",
      "Episode 10: reward: 200.000, steps: 200\n",
      "Episode 11: reward: 200.000, steps: 200\n",
      "Episode 12: reward: 200.000, steps: 200\n",
      "Episode 13: reward: 200.000, steps: 200\n",
      "Episode 14: reward: 200.000, steps: 200\n",
      "Episode 15: reward: 200.000, steps: 200\n",
      "Episode 16: reward: 200.000, steps: 200\n",
      "Episode 17: reward: 200.000, steps: 200\n",
      "Episode 18: reward: 200.000, steps: 200\n",
      "Episode 19: reward: 200.000, steps: 200\n",
      "Episode 20: reward: 200.000, steps: 200\n",
      "Episode 21: reward: 200.000, steps: 200\n",
      "Episode 22: reward: 200.000, steps: 200\n",
      "Episode 23: reward: 200.000, steps: 200\n",
      "Episode 24: reward: 200.000, steps: 200\n",
      "Episode 25: reward: 200.000, steps: 200\n",
      "Episode 26: reward: 200.000, steps: 200\n",
      "Episode 27: reward: 200.000, steps: 200\n",
      "Episode 28: reward: 200.000, steps: 200\n",
      "Episode 29: reward: 200.000, steps: 200\n",
      "Episode 30: reward: 200.000, steps: 200\n",
      "Episode 31: reward: 200.000, steps: 200\n",
      "Episode 32: reward: 200.000, steps: 200\n",
      "Episode 33: reward: 200.000, steps: 200\n",
      "Episode 34: reward: 200.000, steps: 200\n",
      "Episode 35: reward: 200.000, steps: 200\n",
      "Episode 36: reward: 200.000, steps: 200\n",
      "Episode 37: reward: 200.000, steps: 200\n",
      "Episode 38: reward: 200.000, steps: 200\n",
      "Episode 39: reward: 200.000, steps: 200\n",
      "Episode 40: reward: 200.000, steps: 200\n",
      "Episode 41: reward: 200.000, steps: 200\n",
      "Episode 42: reward: 200.000, steps: 200\n",
      "Episode 43: reward: 200.000, steps: 200\n",
      "Episode 44: reward: 200.000, steps: 200\n",
      "Episode 45: reward: 200.000, steps: 200\n",
      "Episode 46: reward: 200.000, steps: 200\n",
      "Episode 47: reward: 200.000, steps: 200\n",
      "Episode 48: reward: 200.000, steps: 200\n",
      "Episode 49: reward: 200.000, steps: 200\n",
      "Episode 50: reward: 200.000, steps: 200\n",
      "Episode 51: reward: 200.000, steps: 200\n",
      "Episode 52: reward: 200.000, steps: 200\n",
      "Episode 53: reward: 200.000, steps: 200\n",
      "Episode 54: reward: 200.000, steps: 200\n",
      "Episode 55: reward: 200.000, steps: 200\n",
      "Episode 56: reward: 200.000, steps: 200\n",
      "Episode 57: reward: 200.000, steps: 200\n",
      "Episode 58: reward: 200.000, steps: 200\n",
      "Episode 59: reward: 200.000, steps: 200\n",
      "Episode 60: reward: 200.000, steps: 200\n",
      "Episode 61: reward: 200.000, steps: 200\n",
      "Episode 62: reward: 200.000, steps: 200\n",
      "Episode 63: reward: 200.000, steps: 200\n",
      "Episode 64: reward: 200.000, steps: 200\n",
      "Episode 65: reward: 200.000, steps: 200\n",
      "Episode 66: reward: 200.000, steps: 200\n",
      "Episode 67: reward: 200.000, steps: 200\n",
      "Episode 68: reward: 200.000, steps: 200\n",
      "Episode 69: reward: 200.000, steps: 200\n",
      "Episode 70: reward: 200.000, steps: 200\n",
      "Episode 71: reward: 200.000, steps: 200\n",
      "Episode 72: reward: 200.000, steps: 200\n",
      "Episode 73: reward: 200.000, steps: 200\n",
      "Episode 74: reward: 200.000, steps: 200\n",
      "Episode 75: reward: 200.000, steps: 200\n",
      "Episode 76: reward: 200.000, steps: 200\n",
      "Episode 77: reward: 200.000, steps: 200\n",
      "Episode 78: reward: 200.000, steps: 200\n",
      "Episode 79: reward: 200.000, steps: 200\n",
      "Episode 80: reward: 200.000, steps: 200\n",
      "Episode 81: reward: 200.000, steps: 200\n",
      "Episode 82: reward: 200.000, steps: 200\n",
      "Episode 83: reward: 200.000, steps: 200\n",
      "Episode 84: reward: 200.000, steps: 200\n",
      "Episode 85: reward: 200.000, steps: 200\n",
      "Episode 86: reward: 200.000, steps: 200\n",
      "Episode 87: reward: 200.000, steps: 200\n",
      "Episode 88: reward: 200.000, steps: 200\n",
      "Episode 89: reward: 200.000, steps: 200\n",
      "Episode 90: reward: 200.000, steps: 200\n",
      "Episode 91: reward: 200.000, steps: 200\n",
      "Episode 92: reward: 200.000, steps: 200\n",
      "Episode 93: reward: 200.000, steps: 200\n",
      "Episode 94: reward: 200.000, steps: 200\n",
      "Episode 95: reward: 200.000, steps: 200\n",
      "Episode 96: reward: 200.000, steps: 200\n",
      "Episode 97: reward: 200.000, steps: 200\n",
      "Episode 98: reward: 200.000, steps: 200\n",
      "Episode 99: reward: 200.000, steps: 200\n",
      "Episode 100: reward: 200.000, steps: 200\n",
      "200.0\n"
     ]
    }
   ],
   "source": [
    "scores = dqn.test(env,nb_episodes=100,visualize=False)\n",
    "print(np.mean(scores.history['episode_reward']))"
   ]
  },
  {
   "cell_type": "code",
   "execution_count": 30,
   "metadata": {},
   "outputs": [
    {
     "output_type": "stream",
     "name": "stdout",
     "text": [
      "Testing for 5 episodes ...\n",
      "Episode 1: reward: 200.000, steps: 200\n",
      "Episode 2: reward: 200.000, steps: 200\n",
      "Episode 3: reward: 200.000, steps: 200\n",
      "Episode 4: reward: 200.000, steps: 200\n",
      "Episode 5: reward: 200.000, steps: 200\n"
     ]
    }
   ],
   "source": [
    "_ = dqn.test(env, nb_episodes=5,visualize=True)"
   ]
  },
  {
   "cell_type": "code",
   "execution_count": 24,
   "metadata": {},
   "outputs": [],
   "source": [
    "dqn.save_weights('dqn_weights.h5f',overwrite=True)"
   ]
  },
  {
   "cell_type": "code",
   "execution_count": 25,
   "metadata": {},
   "outputs": [],
   "source": [
    "del model\n",
    "del dqn\n",
    "del env"
   ]
  },
  {
   "cell_type": "code",
   "execution_count": 28,
   "metadata": {},
   "outputs": [],
   "source": [
    "env = gym.make('CartPole-v0')\n",
    "actions = env.action_space.n\n",
    "states = env.observation_space.shape[0]\n",
    "model = build_model(states,actions)\n",
    "dqn = build_agent(model,actions)\n",
    "dqn.compile(Adam(lr=1e-3),metrics=['mae'])"
   ]
  },
  {
   "cell_type": "code",
   "execution_count": 29,
   "metadata": {},
   "outputs": [],
   "source": [
    "dqn.load_weights('dqn_weights.h5f')"
   ]
  },
  {
   "cell_type": "code",
   "execution_count": 30,
   "metadata": {},
   "outputs": [
    {
     "output_type": "stream",
     "name": "stdout",
     "text": [
      "Testing for 5 episodes ...\n",
      "Episode 1: reward: 200.000, steps: 200\n",
      "Episode 2: reward: 200.000, steps: 200\n",
      "Episode 3: reward: 200.000, steps: 200\n",
      "Episode 4: reward: 200.000, steps: 200\n",
      "Episode 5: reward: 200.000, steps: 200\n"
     ]
    }
   ],
   "source": [
    "_ = dqn.test(env, nb_episodes=5,visualize=True)"
   ]
  },
  {
   "cell_type": "code",
   "execution_count": 26,
   "metadata": {},
   "outputs": [
    {
     "output_type": "error",
     "ename": "NameError",
     "evalue": "name 'dqn' is not defined",
     "traceback": [
      "\u001b[0;31m---------------------------------------------------------------------------\u001b[0m",
      "\u001b[0;31mNameError\u001b[0m                                 Traceback (most recent call last)",
      "\u001b[0;32m<ipython-input-26-81da39d3d3a5>\u001b[0m in \u001b[0;36m<module>\u001b[0;34m\u001b[0m\n\u001b[0;32m----> 1\u001b[0;31m \u001b[0mdqn\u001b[0m\u001b[0;34m.\u001b[0m\u001b[0mtest\u001b[0m\u001b[0;34m(\u001b[0m\u001b[0menv\u001b[0m\u001b[0;34m,\u001b[0m\u001b[0mnb_episode\u001b[0m\u001b[0;34m=\u001b[0m\u001b[0;36m5\u001b[0m\u001b[0;34m,\u001b[0m\u001b[0mvisualize\u001b[0m\u001b[0;34m=\u001b[0m\u001b[0;32mTrue\u001b[0m\u001b[0;34m)\u001b[0m\u001b[0;34m\u001b[0m\u001b[0;34m\u001b[0m\u001b[0m\n\u001b[0m",
      "\u001b[0;31mNameError\u001b[0m: name 'dqn' is not defined"
     ]
    }
   ],
   "source": [
    "dqn.test(env,nb_episode=5,visualize=True)"
   ]
  }
 ]
}